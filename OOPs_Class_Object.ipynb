{
 "cells": [
  {
   "cell_type": "markdown",
   "metadata": {},
   "source": [
    "# OOP Concept"
   ]
  },
  {
   "cell_type": "code",
   "execution_count": 1,
   "metadata": {},
   "outputs": [],
   "source": [
    "class Person: \n",
    "    pass\n",
    "    def __init__(self, name, surename=\"---\", birthyear=0):  # make it double underscore at both side not a single underscore\n",
    "        self.name = name                       # first place is mendetory with any name in arguments in function within class\n",
    "        self.surename = surename               # but by default it will be self....\n",
    "        self.birthyear = birthyear\n",
    "    def __str__(self):\n",
    "        return \"%s %s was born in %d.\"%(self.name, self.surename, self.birthyear)\n",
    "    def sumNum(ct, var1, var2):\n",
    "        return var1+var2\n",
    "    def newName(kt,nm):\n",
    "        kt.name=nm\n",
    "    temp=\"chetan Kumar Tulshibhai\""
   ]
  },
  {
   "cell_type": "code",
   "execution_count": 2,
   "metadata": {},
   "outputs": [
    {
     "name": "stdout",
     "output_type": "stream",
     "text": [
      "Narendra --- was born in 0.\n"
     ]
    }
   ],
   "source": [
    "# Default initialisation\n",
    "narendra = Person(\"Narendra\")\n",
    "print(narendra)"
   ]
  },
  {
   "cell_type": "code",
   "execution_count": 3,
   "metadata": {},
   "outputs": [
    {
     "name": "stdout",
     "output_type": "stream",
     "text": [
      "Narendra Modi was born in 1949.\n"
     ]
    }
   ],
   "source": [
    "# Proper initialisation\n",
    "narendra = Person(\"Narendra\", \"Modi\", 1949)\n",
    "print(narendra)"
   ]
  },
  {
   "cell_type": "code",
   "execution_count": 4,
   "metadata": {},
   "outputs": [
    {
     "name": "stdout",
     "output_type": "stream",
     "text": [
      "Narendra\n",
      "Modi\n",
      "1949\n",
      "chetan Kumar Tulshibhai\n",
      "Wall time: 0 ns\n"
     ]
    }
   ],
   "source": [
    "%%time\n",
    "print(narendra.name)\n",
    "print(narendra.surename)\n",
    "print(narendra.birthyear)\n",
    "print(narendra.temp)"
   ]
  },
  {
   "cell_type": "code",
   "execution_count": 5,
   "metadata": {},
   "outputs": [
    {
     "name": "stdout",
     "output_type": "stream",
     "text": [
      "Narendra\n",
      "Modi\n",
      "1949\n",
      "----------------\n",
      "vinal\n",
      "Modi\n",
      "1949\n"
     ]
    }
   ],
   "source": [
    "narendra.sumNum(\"r\", \"u\")\n",
    "print(narendra.name)\n",
    "print(narendra.surename)\n",
    "print(narendra.birthyear)\n",
    "narendra.newName(\"vinal\")\n",
    "print(\"----------------\")\n",
    "print(narendra.name)\n",
    "print(narendra.surename)\n",
    "print(narendra.birthyear)"
   ]
  },
  {
   "cell_type": "code",
   "execution_count": 6,
   "metadata": {},
   "outputs": [
    {
     "name": "stdout",
     "output_type": "stream",
     "text": [
      "Rahul Gandhi was born in 1975.\n",
      "Rahul\n",
      "Gandhi\n",
      "1975\n"
     ]
    }
   ],
   "source": [
    "#rahul=Person()\n",
    "rahul = Person(\"Rahul\", \"Gandhi\", 1975)\n",
    "print(rahul)\n",
    "print(rahul.name)\n",
    "print(rahul.surename)\n",
    "print(rahul.birthyear)"
   ]
  },
  {
   "cell_type": "code",
   "execution_count": 7,
   "metadata": {},
   "outputs": [
    {
     "data": {
      "text/plain": [
       "9"
      ]
     },
     "execution_count": 7,
     "metadata": {},
     "output_type": "execute_result"
    }
   ],
   "source": [
    "rahul.sumNum(3,6)"
   ]
  },
  {
   "cell_type": "markdown",
   "metadata": {},
   "source": [
    "# Class Inheritance"
   ]
  },
  {
   "cell_type": "markdown",
   "metadata": {},
   "source": [
    "Child Class"
   ]
  },
  {
   "cell_type": "code",
   "execution_count": 8,
   "metadata": {},
   "outputs": [],
   "source": [
    "class ABCD(object): \n",
    "    pass\n",
    "    def __init__(self, name, surename, birthyear):  # make it double underscore at both side not a single underscore\n",
    "        self.name = name                       # first place is mendetory with any name in arguments in function within class\n",
    "        self.surename = surename               # but by default it will be self....\n",
    "        self.birthyear = birthyear\n",
    "    def sumNum(self, a, b):\n",
    "        return a+b"
   ]
  },
  {
   "cell_type": "code",
   "execution_count": 9,
   "metadata": {},
   "outputs": [],
   "source": [
    "class Student(ABCD):\n",
    "    def __init__(self, studentId, *args):\n",
    "        super(Student,self).__init__(*args)\n",
    "        self.student_id = studentId\n",
    "    def __str__(s):\n",
    "        return \"Student No.%d is %s %s, and was born in %d.\"%(s.student_id, s.name, s.surename, s.birthyear)      "
   ]
  },
  {
   "cell_type": "code",
   "execution_count": 10,
   "metadata": {},
   "outputs": [
    {
     "name": "stdout",
     "output_type": "stream",
     "text": [
      "Student No.1 is Manan Patel, and was born in 1995.\n",
      "10\n"
     ]
    }
   ],
   "source": [
    "stud1 = Student(1, \"Manan\", \"Patel\", 1995)\n",
    "print(stud1)\n",
    "print(stud1.sumNum(4,6))"
   ]
  },
  {
   "cell_type": "code",
   "execution_count": 11,
   "metadata": {},
   "outputs": [],
   "source": [
    "# Wite a python program(with class concept) to find the area of the Trianlge using the below formula.\n",
    "# Area = (s*(s-a)*(s-b)*(s-c))**0.5\n",
    "\n",
    "class ParentClass(object):\n",
    "    def __init__(self, a, b, c):\n",
    "        self.a = a \n",
    "        self.b = b\n",
    "        self.c = c\n",
    "        self.s = (a+b+c)/2\n",
    "        \n",
    "class SubClass(ParentClass):\n",
    "    area = 0\n",
    "    def __init__(self, triName, *agrs):\n",
    "        super(SubClass, self).__init__(*agrs)\n",
    "        self.triangle_name = triName\n",
    "        self.areaOfTriangle()\n",
    "    def areaOfTriangle(self):\n",
    "        self.area = (self.s*(self.s-self.a)*(self.s-self.b)*(self.s-self.c))**.5\n",
    "    def __str__(self):\n",
    "        return \"Area of Triangle of %s is %f.\"%(self.triangle_name, self.area)"
   ]
  },
  {
   "cell_type": "code",
   "execution_count": 13,
   "metadata": {},
   "outputs": [
    {
     "name": "stdout",
     "output_type": "stream",
     "text": [
      "Enter length of side a = 3\n",
      "Enter length of side b = 4\n",
      "Enter length of side c = 5\n",
      "Area of Triangle of A is 6.000000.\n",
      "Area of Triangle of B is 4.472136.\n"
     ]
    }
   ],
   "source": [
    "a = input(\"Enter length of side a = \")\n",
    "b = input(\"Enter length of side b = \")\n",
    "c = input(\"Enter length of side c = \")\n",
    "A = SubClass('A', a, b, c)\n",
    "B = SubClass('B', 3, 3, 4)\n",
    "#A.areaOfTriangle()\n",
    "#B.areaOfTriangle()\n",
    "print(A)\n",
    "print(B)"
   ]
  },
  {
   "cell_type": "markdown",
   "metadata": {},
   "source": [
    "### trianlge = SubClass(3, 3, 4)\n",
    "trianlge.areaOfTriangle()\n",
    "print(trianlge)"
   ]
  },
  {
   "cell_type": "markdown",
   "metadata": {},
   "source": [
    "# Functions Overriding:"
   ]
  },
  {
   "cell_type": "code",
   "execution_count": 14,
   "metadata": {},
   "outputs": [],
   "source": [
    "# Parent Class:\n",
    "class ParentClass(object):\n",
    "    def __init__(self, nm,snm):\n",
    "        self.name = nm\n",
    "        self.surename = snm\n",
    "    def Same_Method(self):\n",
    "        print(\"Parent Class Same_Method\")\n",
    "        \n",
    "# Child Class:\n",
    "class ChildClass(ParentClass):\n",
    "    def __init__(self, cid, *args):\n",
    "        # below both statements will work to initialize the parent class __init__() methods \n",
    "        # Option-1\n",
    "        ParentClass.__init__(self, *args)\n",
    "        # Option-2\n",
    "        #super(ChildClass, self).__init__(*args)\n",
    "        \n",
    "        self.child_id = cid\n",
    "    def Same_Method(self):\n",
    "        print(\"Child Class Same_Method\")\n",
    "    def __str__(self):\n",
    "        return \"Child ID %d is %s %s.\"%(self.child_id, self.name, self.surename)"
   ]
  },
  {
   "cell_type": "code",
   "execution_count": 15,
   "metadata": {},
   "outputs": [
    {
     "name": "stdout",
     "output_type": "stream",
     "text": [
      "Child Class Same_Method\n",
      "Parent Class Same_Method\n",
      "Child ID 11 is Chintan Patel.\n"
     ]
    }
   ],
   "source": [
    "ch1 = ChildClass(11, \"Chintan\", \"Patel\")\n",
    "ch1.Same_Method()\n",
    "super(ChildClass, ch1).Same_Method()\n",
    "print(ch1)"
   ]
  },
  {
   "cell_type": "markdown",
   "metadata": {},
   "source": [
    "# Dynamic Execution"
   ]
  },
  {
   "cell_type": "code",
   "execution_count": 16,
   "metadata": {},
   "outputs": [],
   "source": [
    "class A:\n",
    "    def __init__(self, nm, snm):\n",
    "        self.a_name = nm\n",
    "        self.a_surename = snm\n",
    "    def __str__(self):\n",
    "        return \"%s %s\"%(self.a_name, self.a_surename)\n",
    "\n",
    "class B:\n",
    "    def __init__(self, nm, byear):\n",
    "        self.b_name = nm\n",
    "        self.birthyear = byear\n",
    "    def __str__(self):\n",
    "        return str(self.b_name)+\" was born in %d.\"%(self.birthyear) "
   ]
  },
  {
   "cell_type": "code",
   "execution_count": 17,
   "metadata": {},
   "outputs": [
    {
     "name": "stdout",
     "output_type": "stream",
     "text": [
      "Narendra Modi\n"
     ]
    }
   ],
   "source": [
    "class_A = A(\"Narendra\", \"Modi\")\n",
    "print(class_A)"
   ]
  },
  {
   "cell_type": "code",
   "execution_count": 18,
   "metadata": {},
   "outputs": [
    {
     "name": "stdout",
     "output_type": "stream",
     "text": [
      "abcd was born in 1990.\n"
     ]
    }
   ],
   "source": [
    "class_B = B(\"abcd\", 1990)\n",
    "print(class_B)"
   ]
  },
  {
   "cell_type": "code",
   "execution_count": 19,
   "metadata": {},
   "outputs": [
    {
     "name": "stdout",
     "output_type": "stream",
     "text": [
      "Narendra Modi was born in 1949.\n"
     ]
    }
   ],
   "source": [
    "dynamic_execution = B(class_A, 1949)\n",
    "print(dynamic_execution)"
   ]
  },
  {
   "cell_type": "markdown",
   "metadata": {},
   "source": [
    "Given Assignment"
   ]
  },
  {
   "cell_type": "code",
   "execution_count": 20,
   "metadata": {},
   "outputs": [],
   "source": [
    "# Create a 2 class that is Student & School.\n",
    "\n",
    "\n",
    "class Student(object):\n",
    "    def __init__(self):\n",
    "        self.name = raw_input(\"Enter name: \")\n",
    "        self.surename = raw_input(\"Enter Student Surename: \")\n",
    "class School(Student):\n",
    "    def __init__(self):\n",
    "        super(School, self).__init__()\n",
    "        self.schoolname = raw_input(\"Enter School Name: \")\n",
    "    def __str__(s):\n",
    "        return \"%s %s is studying in %s Vidhyalaya.\"%(s.name, s.surename, s.schoolname)  "
   ]
  },
  {
   "cell_type": "code",
   "execution_count": 22,
   "metadata": {},
   "outputs": [
    {
     "name": "stdout",
     "output_type": "stream",
     "text": [
      "How many student you want to enter: 1\n",
      "Enter name: dff\n",
      "Enter Student Surename: www\n",
      "Enter School Name: hgb\n",
      "dff www is studying in hgb Vidhyalaya.\n"
     ]
    }
   ],
   "source": [
    "studNo = input(\"How many student you want to enter: \")\n",
    "for i in range(studNo):\n",
    "    stud = School()\n",
    "    print(stud)"
   ]
  },
  {
   "cell_type": "code",
   "execution_count": 23,
   "metadata": {},
   "outputs": [
    {
     "name": "stdout",
     "output_type": "stream",
     "text": [
      "Enter name: 2\n",
      "22\n"
     ]
    }
   ],
   "source": [
    "k = raw_input(\"Enter name: \")\n",
    "print(k*2)"
   ]
  },
  {
   "cell_type": "code",
   "execution_count": 24,
   "metadata": {},
   "outputs": [],
   "source": [
    "import pandas as pd"
   ]
  },
  {
   "cell_type": "code",
   "execution_count": 25,
   "metadata": {},
   "outputs": [
    {
     "name": "stdout",
     "output_type": "stream",
     "text": [
      "How many student you want to enter: 1\n",
      "Enter name: ww\n",
      "Enter Student Surename: ee\n",
      "Enter School Name: rr\n"
     ]
    },
    {
     "data": {
      "text/html": [
       "<div>\n",
       "<style scoped>\n",
       "    .dataframe tbody tr th:only-of-type {\n",
       "        vertical-align: middle;\n",
       "    }\n",
       "\n",
       "    .dataframe tbody tr th {\n",
       "        vertical-align: top;\n",
       "    }\n",
       "\n",
       "    .dataframe thead th {\n",
       "        text-align: right;\n",
       "    }\n",
       "</style>\n",
       "<table border=\"1\" class=\"dataframe\">\n",
       "  <thead>\n",
       "    <tr style=\"text-align: right;\">\n",
       "      <th></th>\n",
       "      <th>name</th>\n",
       "      <th>schoolname</th>\n",
       "      <th>surename</th>\n",
       "    </tr>\n",
       "  </thead>\n",
       "  <tbody>\n",
       "    <tr>\n",
       "      <th>0</th>\n",
       "      <td>ww</td>\n",
       "      <td>rr</td>\n",
       "      <td>ee</td>\n",
       "    </tr>\n",
       "  </tbody>\n",
       "</table>\n",
       "</div>"
      ],
      "text/plain": [
       "  name schoolname surename\n",
       "0   ww         rr       ee"
      ]
     },
     "execution_count": 25,
     "metadata": {},
     "output_type": "execute_result"
    }
   ],
   "source": [
    "studNo = input(\"How many student you want to enter: \")\n",
    "x = []\n",
    "for i in range(studNo):\n",
    "    stud = School()\n",
    "    x.append(stud)\n",
    "pd.DataFrame.from_records([s.__dict__ for s in x])"
   ]
  },
  {
   "cell_type": "markdown",
   "metadata": {},
   "source": [
    "#  Writing a text file"
   ]
  },
  {
   "cell_type": "code",
   "execution_count": 26,
   "metadata": {},
   "outputs": [
    {
     "name": "stdout",
     "output_type": "stream",
     "text": [
      "Writing E:\\ct.txt\n"
     ]
    }
   ],
   "source": [
    "%%writefile E:\\ct.txt\n",
    "Hello, How are you?\n",
    "I am fine."
   ]
  },
  {
   "cell_type": "code",
   "execution_count": 27,
   "metadata": {},
   "outputs": [
    {
     "data": {
      "text/plain": [
       "u'C:\\\\Users\\\\OMKARA\\\\Documents\\\\CT Patel'"
      ]
     },
     "execution_count": 27,
     "metadata": {},
     "output_type": "execute_result"
    }
   ],
   "source": [
    "pwd()"
   ]
  },
  {
   "cell_type": "code",
   "execution_count": 28,
   "metadata": {},
   "outputs": [
    {
     "data": {
      "text/plain": [
       "'Hello, How are you?\\nI am fine.'"
      ]
     },
     "execution_count": 28,
     "metadata": {},
     "output_type": "execute_result"
    }
   ],
   "source": [
    "my_file = open(\"E:\\ct.txt\")\n",
    "my_file.read()"
   ]
  },
  {
   "cell_type": "code",
   "execution_count": 29,
   "metadata": {},
   "outputs": [
    {
     "data": {
      "text/plain": [
       "''"
      ]
     },
     "execution_count": 29,
     "metadata": {},
     "output_type": "execute_result"
    }
   ],
   "source": [
    "my_file.read() # Cursor reached to the end of the file, that is why this returns empty character"
   ]
  },
  {
   "cell_type": "code",
   "execution_count": 30,
   "metadata": {},
   "outputs": [],
   "source": [
    "my_file.seek(0)"
   ]
  },
  {
   "cell_type": "code",
   "execution_count": 31,
   "metadata": {},
   "outputs": [
    {
     "data": {
      "text/plain": [
       "'Hello, How are you?\\nI am fine.'"
      ]
     },
     "execution_count": 31,
     "metadata": {},
     "output_type": "execute_result"
    }
   ],
   "source": [
    "my_file.read()"
   ]
  },
  {
   "cell_type": "markdown",
   "metadata": {},
   "source": [
    "File Re-write Oeration"
   ]
  },
  {
   "cell_type": "code",
   "execution_count": 32,
   "metadata": {},
   "outputs": [
    {
     "data": {
      "text/plain": [
       "'AAAA \\nBBBB \\nCCCC \\nDDDD \\nEEEE \\nFFFF.'"
      ]
     },
     "execution_count": 32,
     "metadata": {},
     "output_type": "execute_result"
    }
   ],
   "source": [
    "my_file = open(\"E:\\ct.txt\", 'w+')\n",
    "my_file.write('AAAA \\nBBBB \\nCCCC \\nDDDD \\nEEEE \\nFFFF.')\n",
    "my_file = open(\"E:\\ct.txt\")\n",
    "my_file.read()"
   ]
  },
  {
   "cell_type": "code",
   "execution_count": null,
   "metadata": {},
   "outputs": [],
   "source": []
  },
  {
   "cell_type": "code",
   "execution_count": 33,
   "metadata": {},
   "outputs": [
    {
     "data": {
      "text/plain": [
       "'AAAA \\nBBBB \\nCCCC \\nDDDD \\nEEEE \\nFFFF.'"
      ]
     },
     "execution_count": 33,
     "metadata": {},
     "output_type": "execute_result"
    }
   ],
   "source": [
    "my_file = open(\"E:\\ct.txt\")\n",
    "my_file.read()"
   ]
  },
  {
   "cell_type": "code",
   "execution_count": 34,
   "metadata": {},
   "outputs": [
    {
     "data": {
      "text/plain": [
       "''"
      ]
     },
     "execution_count": 34,
     "metadata": {},
     "output_type": "execute_result"
    }
   ],
   "source": [
    "my_file.read()"
   ]
  },
  {
   "cell_type": "code",
   "execution_count": 35,
   "metadata": {},
   "outputs": [],
   "source": [
    "my_file.seek(0)"
   ]
  },
  {
   "cell_type": "code",
   "execution_count": 36,
   "metadata": {},
   "outputs": [
    {
     "data": {
      "text/plain": [
       "'AAAA \\nBBBB \\nCCCC \\nDDDD \\nEEEE \\nFFFF.'"
      ]
     },
     "execution_count": 36,
     "metadata": {},
     "output_type": "execute_result"
    }
   ],
   "source": [
    "my_file.read()"
   ]
  },
  {
   "cell_type": "markdown",
   "metadata": {},
   "source": [
    "File Iteration Operation"
   ]
  },
  {
   "cell_type": "code",
   "execution_count": 37,
   "metadata": {},
   "outputs": [
    {
     "name": "stdout",
     "output_type": "stream",
     "text": [
      "AAAA \n",
      "\n",
      "BBBB \n",
      "\n",
      "CCCC \n",
      "\n",
      "DDDD \n",
      "\n",
      "EEEE \n",
      "\n",
      "FFFF.\n"
     ]
    }
   ],
   "source": [
    "my_file = open(\"E:\\ct.txt\")\n",
    "for i in my_file:\n",
    "    print(i)"
   ]
  },
  {
   "cell_type": "markdown",
   "metadata": {},
   "source": [
    "# StingIO Packages"
   ]
  },
  {
   "cell_type": "markdown",
   "metadata": {},
   "source": [
    "StringIO Package provides the mehtods/functions which allows user to perform all the file operation with string variable.\n",
    "To perfom all file operation first of all we have to import StringIO package from io core module."
   ]
  },
  {
   "cell_type": "markdown",
   "metadata": {},
   "source": [
    "Then, make StringIO object... then, Assign the string to StringIO object"
   ]
  },
  {
   "cell_type": "markdown",
   "metadata": {},
   "source": [
    "Now, with the help of StringIO object, we can perform all file operation on string. "
   ]
  },
  {
   "cell_type": "code",
   "execution_count": 38,
   "metadata": {},
   "outputs": [
    {
     "name": "stdout",
     "output_type": "stream",
     "text": [
      "<type 'str'>\n",
      "Hello, I am Chetan Patel.\n"
     ]
    }
   ],
   "source": [
    "message = \"Hello, I am Chetan Patel.\"\n",
    "print(type(message))\n",
    "print(message)"
   ]
  },
  {
   "cell_type": "code",
   "execution_count": 40,
   "metadata": {},
   "outputs": [
    {
     "ename": "AttributeError",
     "evalue": "'str' object has no attribute 'read'",
     "output_type": "error",
     "traceback": [
      "\u001b[1;31m\u001b[0m",
      "\u001b[1;31mAttributeError\u001b[0mTraceback (most recent call last)",
      "\u001b[1;32m<ipython-input-40-dc685072ba92>\u001b[0m in \u001b[0;36m<module>\u001b[1;34m()\u001b[0m\n\u001b[1;32m----> 1\u001b[1;33m \u001b[0mmessage\u001b[0m\u001b[1;33m.\u001b[0m\u001b[0mread\u001b[0m\u001b[1;33m(\u001b[0m\u001b[1;33m)\u001b[0m\u001b[1;33m\u001b[0m\u001b[0m\n\u001b[0m",
      "\u001b[1;31mAttributeError\u001b[0m: 'str' object has no attribute 'read'"
     ]
    }
   ],
   "source": [
    "message.read()"
   ]
  },
  {
   "cell_type": "code",
   "execution_count": 41,
   "metadata": {},
   "outputs": [
    {
     "ename": "AttributeError",
     "evalue": "'str' object has no attribute 'write'",
     "output_type": "error",
     "traceback": [
      "\u001b[1;31m\u001b[0m",
      "\u001b[1;31mAttributeError\u001b[0mTraceback (most recent call last)",
      "\u001b[1;32m<ipython-input-41-49a50694d055>\u001b[0m in \u001b[0;36m<module>\u001b[1;34m()\u001b[0m\n\u001b[1;32m----> 1\u001b[1;33m \u001b[0mmessage\u001b[0m\u001b[1;33m.\u001b[0m\u001b[0mwrite\u001b[0m\u001b[1;33m(\u001b[0m\u001b[1;34m\"Omkara\"\u001b[0m\u001b[1;33m)\u001b[0m\u001b[1;33m\u001b[0m\u001b[0m\n\u001b[0m",
      "\u001b[1;31mAttributeError\u001b[0m: 'str' object has no attribute 'write'"
     ]
    }
   ],
   "source": [
    "message.write(\"Omkara\")"
   ]
  },
  {
   "cell_type": "code",
   "execution_count": 42,
   "metadata": {},
   "outputs": [],
   "source": [
    "from io import StringIO\n",
    "f = StringIO(u'omkara')"
   ]
  },
  {
   "cell_type": "code",
   "execution_count": 43,
   "metadata": {},
   "outputs": [],
   "source": [
    "f = StringIO(unicode(message,\"utf-8\"))"
   ]
  },
  {
   "cell_type": "code",
   "execution_count": 44,
   "metadata": {},
   "outputs": [
    {
     "data": {
      "text/plain": [
       "u'Hello, I am Chetan Patel.'"
      ]
     },
     "execution_count": 44,
     "metadata": {},
     "output_type": "execute_result"
    }
   ],
   "source": [
    "f.read()"
   ]
  },
  {
   "cell_type": "code",
   "execution_count": 45,
   "metadata": {},
   "outputs": [
    {
     "data": {
      "text/plain": [
       "13L"
      ]
     },
     "execution_count": 45,
     "metadata": {},
     "output_type": "execute_result"
    }
   ],
   "source": [
    "f.write(u'omkara Tridev')"
   ]
  },
  {
   "cell_type": "code",
   "execution_count": 46,
   "metadata": {},
   "outputs": [
    {
     "data": {
      "text/plain": [
       "u''"
      ]
     },
     "execution_count": 46,
     "metadata": {},
     "output_type": "execute_result"
    }
   ],
   "source": [
    "f.read()"
   ]
  },
  {
   "cell_type": "code",
   "execution_count": 47,
   "metadata": {},
   "outputs": [
    {
     "data": {
      "text/plain": [
       "0L"
      ]
     },
     "execution_count": 47,
     "metadata": {},
     "output_type": "execute_result"
    }
   ],
   "source": [
    "f.seek(0)"
   ]
  },
  {
   "cell_type": "code",
   "execution_count": 48,
   "metadata": {},
   "outputs": [
    {
     "data": {
      "text/plain": [
       "u'Hello, I am Chetan Patel.omkara Tridev'"
      ]
     },
     "execution_count": 48,
     "metadata": {},
     "output_type": "execute_result"
    }
   ],
   "source": [
    "f.read()"
   ]
  },
  {
   "cell_type": "code",
   "execution_count": 49,
   "metadata": {},
   "outputs": [
    {
     "name": "stdout",
     "output_type": "stream",
     "text": [
      "<type '_io.StringIO'>\n"
     ]
    }
   ],
   "source": [
    "print(type(f))"
   ]
  },
  {
   "cell_type": "code",
   "execution_count": 50,
   "metadata": {},
   "outputs": [],
   "source": [
    "import math"
   ]
  },
  {
   "cell_type": "code",
   "execution_count": 51,
   "metadata": {},
   "outputs": [
    {
     "name": "stdout",
     "output_type": "stream",
     "text": [
      "['__doc__', '__name__', '__package__', 'acos', 'acosh', 'asin', 'asinh', 'atan', 'atan2', 'atanh', 'ceil', 'copysign', 'cos', 'cosh', 'degrees', 'e', 'erf', 'erfc', 'exp', 'expm1', 'fabs', 'factorial', 'floor', 'fmod', 'frexp', 'fsum', 'gamma', 'hypot', 'isinf', 'isnan', 'ldexp', 'lgamma', 'log', 'log10', 'log1p', 'modf', 'pi', 'pow', 'radians', 'sin', 'sinh', 'sqrt', 'tan', 'tanh', 'trunc']\n"
     ]
    }
   ],
   "source": [
    "print(dir(math))"
   ]
  },
  {
   "cell_type": "raw",
   "metadata": {},
   "source": [
    "['__doc__', '__name__', '__package__', 'acos', 'acosh', 'asin', 'asinh', 'atan', 'atan2', 'atanh', 'ceil', 'copysign', \n",
    " 'cos', 'cosh', 'degrees', 'e', 'erf', 'erfc', 'exp', 'expm1', 'fabs', 'factorial', 'floor', 'fmod', 'frexp', 'fsum', \n",
    " 'gamma', 'hypot', 'isinf', 'isnan', 'ldexp', 'lgamma', 'log', 'log10', 'log1p', 'modf', 'pi', 'pow', 'radians', 'sin',\n",
    " 'sinh', 'sqrt', 'tan', 'tanh', 'trunc']"
   ]
  },
  {
   "cell_type": "code",
   "execution_count": 52,
   "metadata": {},
   "outputs": [
    {
     "data": {
      "text/plain": [
       "4.0"
      ]
     },
     "execution_count": 52,
     "metadata": {},
     "output_type": "execute_result"
    }
   ],
   "source": [
    "math.ceil(3.99)"
   ]
  },
  {
   "cell_type": "markdown",
   "metadata": {},
   "source": [
    "# Exception Handling "
   ]
  },
  {
   "cell_type": "code",
   "execution_count": 53,
   "metadata": {},
   "outputs": [
    {
     "data": {
      "text/plain": [
       "'My name is chetan. How are you?'"
      ]
     },
     "execution_count": 53,
     "metadata": {},
     "output_type": "execute_result"
    }
   ],
   "source": [
    "my_file = open(\"E:\\ct.txt\", 'w+')\n",
    "my_file.write('My name is chetan. How are you?')\n",
    "my_file = open(\"E:\\ct.txt\")\n",
    "my_file.read()"
   ]
  },
  {
   "cell_type": "code",
   "execution_count": 54,
   "metadata": {},
   "outputs": [
    {
     "ename": "IOError",
     "evalue": "[Errno 2] No such file or directory: 'E:\\\\ct1.txt'",
     "output_type": "error",
     "traceback": [
      "\u001b[1;31m\u001b[0m",
      "\u001b[1;31mIOError\u001b[0mTraceback (most recent call last)",
      "\u001b[1;32m<ipython-input-54-cc71c856564b>\u001b[0m in \u001b[0;36m<module>\u001b[1;34m()\u001b[0m\n\u001b[1;32m----> 1\u001b[1;33m \u001b[0mmy_file\u001b[0m \u001b[1;33m=\u001b[0m \u001b[0mopen\u001b[0m\u001b[1;33m(\u001b[0m\u001b[1;34m'E:\\ct1.txt'\u001b[0m\u001b[1;33m)\u001b[0m\u001b[1;33m\u001b[0m\u001b[0m\n\u001b[0m\u001b[0;32m      2\u001b[0m \u001b[0mmy_file\u001b[0m\u001b[1;33m.\u001b[0m\u001b[0mread\u001b[0m\u001b[1;33m(\u001b[0m\u001b[1;33m)\u001b[0m\u001b[1;33m\u001b[0m\u001b[0m\n",
      "\u001b[1;31mIOError\u001b[0m: [Errno 2] No such file or directory: 'E:\\\\ct1.txt'"
     ]
    }
   ],
   "source": [
    "my_file = open('E:\\ct1.txt')\n",
    "my_file.read()"
   ]
  },
  {
   "cell_type": "code",
   "execution_count": 56,
   "metadata": {},
   "outputs": [
    {
     "ename": "IOError",
     "evalue": "File not open for writing",
     "output_type": "error",
     "traceback": [
      "\u001b[1;31m\u001b[0m",
      "\u001b[1;31mIOError\u001b[0mTraceback (most recent call last)",
      "\u001b[1;32m<ipython-input-56-cda2b3be9177>\u001b[0m in \u001b[0;36m<module>\u001b[1;34m()\u001b[0m\n\u001b[0;32m      1\u001b[0m \u001b[0mmy_file\u001b[0m \u001b[1;33m=\u001b[0m \u001b[0mopen\u001b[0m\u001b[1;33m(\u001b[0m\u001b[1;34m\"E:\\ct.txt\"\u001b[0m\u001b[1;33m)\u001b[0m\u001b[1;33m\u001b[0m\u001b[0m\n\u001b[1;32m----> 2\u001b[1;33m \u001b[0mmy_file\u001b[0m\u001b[1;33m.\u001b[0m\u001b[0mwrite\u001b[0m\u001b[1;33m(\u001b[0m\u001b[1;34m'AAAA \\nBBBB \\nCCCC \\nDDDD \\nEEEE \\nFFFF.'\u001b[0m\u001b[1;33m)\u001b[0m\u001b[1;33m\u001b[0m\u001b[0m\n\u001b[0m",
      "\u001b[1;31mIOError\u001b[0m: File not open for writing"
     ]
    }
   ],
   "source": [
    "my_file = open(\"E:\\ct.txt\")\n",
    "my_file.write('AAAA \\nBBBB \\nCCCC \\nDDDD \\nEEEE \\nFFFF.')\n"
   ]
  },
  {
   "cell_type": "code",
   "execution_count": 57,
   "metadata": {},
   "outputs": [
    {
     "name": "stdout",
     "output_type": "stream",
     "text": [
      "Inside IO Error block...\n",
      "[Errno 2] No such file or directory: 'All_files\\\\ct1.txt'\n",
      "This will be executed always whether try block successfully excuted or not...\n",
      "-----\n"
     ]
    }
   ],
   "source": [
    "# There are many block of code inside a try block, all code give an error.\n",
    "# But, through Exception Handling we can give error name in developer's own words.\n",
    "\n",
    "try:\n",
    "    my_file1 = open('All_files\\ct1.txt')      #IOError\n",
    "    my_file1.read()\n",
    "    \n",
    "    #my_file = open(\"E:\\ct.txt\")    #IOError\n",
    "    #my_file.write('AAAA')\n",
    "    \n",
    "    #a=int(\"k\")                     #ValueError\n",
    "    \n",
    "    #a=4+'A'                        #TypeError\n",
    "    \n",
    "    int(st)                        #NameError\n",
    "    \n",
    "    #a=4/0                          #ZeroDivisionError\n",
    "    \n",
    "    #print(4*3)                     #Not Error\n",
    "    \n",
    "\n",
    "except IOError as ioe:\n",
    "    my_file1 = None\n",
    "    print(\"Inside IO Error block...\")\n",
    "    print(ioe)\n",
    "except ValueError as ve:\n",
    "    my_file1 = None\n",
    "    print(\"Type casting not possible...\")\n",
    "    print(ve)\n",
    "except TypeError as te:\n",
    "    my_file1 = None\n",
    "    print(\"Values of different types...\")\n",
    "    print(te)\n",
    "except NameError as ne:\n",
    "    my_file1 = None\n",
    "    print(\"No such file...\")\n",
    "    print(ne)\n",
    "except ZeroDivisionError as zde:\n",
    "    my_file1 = None\n",
    "    print(\"Denominator should not be zero...\")\n",
    "    print(zde)\n",
    "except:\n",
    "    my_file1 = None\n",
    "    print(\"Error can't be found...\")\n",
    "else:\n",
    "    # When TRY block is executed successfully without any excetion, then ELSE block will execute also.\n",
    "    print(\"Operation successfully done....\")\n",
    "finally: \n",
    "    # When TRY block is executed successfully or NOT, but finally must be executed definitely.\n",
    "    # So, it is good practice that Whatever you open in TRY block will close in FINALLY block.    \n",
    "    print(\"This will be executed always whether try block successfully excuted or not...\")\n",
    "    if (my_file1) is not None:\n",
    "        my_file1.close()  \n",
    "    else: print(\"-----\")"
   ]
  },
  {
   "cell_type": "code",
   "execution_count": 58,
   "metadata": {},
   "outputs": [
    {
     "name": "stdout",
     "output_type": "stream",
     "text": [
      "Enter the number: 2\n",
      "Enter the number: 3\n",
      "Addition of 2 and 3 is 5.\n",
      "Finally block executed successfully.\n"
     ]
    }
   ],
   "source": [
    "try:\n",
    "    val1 = int(input(\"Enter the number: \"))\n",
    "    val2 = int(input(\"Enter the number: \"))\n",
    "    add = val1 + val2\n",
    "except: print(\"You have not entered an integer.\")\n",
    "else: print(\"Addition of %d and %d is %d.\"%(val1, val2, add))\n",
    "finally: print(\"Finally block executed successfully.\")"
   ]
  },
  {
   "cell_type": "code",
   "execution_count": 59,
   "metadata": {},
   "outputs": [
    {
     "ename": "ValueError",
     "evalue": "invalid literal for int() with base 10: 'k'",
     "output_type": "error",
     "traceback": [
      "\u001b[1;31m\u001b[0m",
      "\u001b[1;31mValueError\u001b[0mTraceback (most recent call last)",
      "\u001b[1;32m<ipython-input-59-79275ad31d35>\u001b[0m in \u001b[0;36m<module>\u001b[1;34m()\u001b[0m\n\u001b[0;32m      1\u001b[0m \u001b[1;33m\u001b[0m\u001b[0m\n\u001b[1;32m----> 2\u001b[1;33m \u001b[0ms\u001b[0m\u001b[1;33m=\u001b[0m\u001b[0mint\u001b[0m\u001b[1;33m(\u001b[0m\u001b[1;34m\"k\"\u001b[0m\u001b[1;33m)\u001b[0m\u001b[1;33m\u001b[0m\u001b[0m\n\u001b[0m",
      "\u001b[1;31mValueError\u001b[0m: invalid literal for int() with base 10: 'k'"
     ]
    }
   ],
   "source": [
    "\n",
    "s=int(\"k\")\n"
   ]
  },
  {
   "cell_type": "code",
   "execution_count": 60,
   "metadata": {},
   "outputs": [],
   "source": [
    "my_file = open('E:\\ct.txt', 'r+')\n",
    "my_file.write('kk Write new line dtc')"
   ]
  },
  {
   "cell_type": "code",
   "execution_count": 61,
   "metadata": {},
   "outputs": [
    {
     "data": {
      "text/plain": [
       "'kk Write new line dtcw are you?'"
      ]
     },
     "execution_count": 61,
     "metadata": {},
     "output_type": "execute_result"
    }
   ],
   "source": [
    "my_file = open('E:\\ct.txt', 'r')\n",
    "my_file.read()"
   ]
  },
  {
   "cell_type": "code",
   "execution_count": 62,
   "metadata": {},
   "outputs": [
    {
     "ename": "IOError",
     "evalue": "[Errno 2] No such file or directory: 'E:\\\\ct4.txt'",
     "output_type": "error",
     "traceback": [
      "\u001b[1;31m\u001b[0m",
      "\u001b[1;31mIOError\u001b[0mTraceback (most recent call last)",
      "\u001b[1;32m<ipython-input-62-67d1630d77de>\u001b[0m in \u001b[0;36m<module>\u001b[1;34m()\u001b[0m\n\u001b[1;32m----> 1\u001b[1;33m \u001b[0mg\u001b[0m \u001b[1;33m=\u001b[0m \u001b[0mopen\u001b[0m\u001b[1;33m(\u001b[0m\u001b[1;34m\"E:\\ct4.txt\"\u001b[0m\u001b[1;33m)\u001b[0m\u001b[1;33m\u001b[0m\u001b[0m\n\u001b[0m\u001b[0;32m      2\u001b[0m \u001b[0mg\u001b[0m\u001b[1;33m.\u001b[0m\u001b[0mread\u001b[0m\u001b[1;33m(\u001b[0m\u001b[1;33m)\u001b[0m\u001b[1;33m\u001b[0m\u001b[0m\n",
      "\u001b[1;31mIOError\u001b[0m: [Errno 2] No such file or directory: 'E:\\\\ct4.txt'"
     ]
    }
   ],
   "source": [
    "g = open(\"E:\\ct4.txt\")\n",
    "g.read()"
   ]
  },
  {
   "cell_type": "code",
   "execution_count": 63,
   "metadata": {},
   "outputs": [
    {
     "ename": "NameError",
     "evalue": "name 't' is not defined",
     "output_type": "error",
     "traceback": [
      "\u001b[1;31m\u001b[0m",
      "\u001b[1;31mNameError\u001b[0mTraceback (most recent call last)",
      "\u001b[1;32m<ipython-input-63-4713f5f7704d>\u001b[0m in \u001b[0;36m<module>\u001b[1;34m()\u001b[0m\n\u001b[1;32m----> 1\u001b[1;33m \u001b[1;32mif\u001b[0m \u001b[0mt\u001b[0m\u001b[1;33m:\u001b[0m \u001b[1;32mprint\u001b[0m\u001b[1;33m(\u001b[0m\u001b[1;34m\"Not none\"\u001b[0m\u001b[1;33m)\u001b[0m\u001b[1;33m\u001b[0m\u001b[0m\n\u001b[0m\u001b[0;32m      2\u001b[0m \u001b[1;32melse\u001b[0m\u001b[1;33m:\u001b[0m \u001b[1;32mprint\u001b[0m\u001b[1;33m(\u001b[0m\u001b[1;34m\"None\"\u001b[0m\u001b[1;33m)\u001b[0m\u001b[1;33m\u001b[0m\u001b[0m\n",
      "\u001b[1;31mNameError\u001b[0m: name 't' is not defined"
     ]
    }
   ],
   "source": [
    "if t: print(\"Not none\")\n",
    "else: print(\"None\")"
   ]
  },
  {
   "cell_type": "code",
   "execution_count": null,
   "metadata": {},
   "outputs": [],
   "source": []
  }
 ],
 "metadata": {
  "kernelspec": {
   "display_name": "Python 2",
   "language": "python",
   "name": "python2"
  },
  "language_info": {
   "codemirror_mode": {
    "name": "ipython",
    "version": 2
   },
   "file_extension": ".py",
   "mimetype": "text/x-python",
   "name": "python",
   "nbconvert_exporter": "python",
   "pygments_lexer": "ipython2",
   "version": "2.7.16"
  }
 },
 "nbformat": 4,
 "nbformat_minor": 2
}
