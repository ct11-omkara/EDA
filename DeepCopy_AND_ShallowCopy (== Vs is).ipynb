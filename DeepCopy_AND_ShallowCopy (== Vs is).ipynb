{
 "cells": [
  {
   "cell_type": "code",
   "execution_count": 3,
   "metadata": {},
   "outputs": [
    {
     "name": "stdout",
     "output_type": "stream",
     "text": [
      "10\n",
      "10\n"
     ]
    }
   ],
   "source": [
    "a=10\n",
    "b=a\n",
    "print(a)\n",
    "print(b)"
   ]
  },
  {
   "cell_type": "code",
   "execution_count": 4,
   "metadata": {},
   "outputs": [
    {
     "name": "stdout",
     "output_type": "stream",
     "text": [
      "20\n",
      "10\n"
     ]
    }
   ],
   "source": [
    "a=20\n",
    "print(a)\n",
    "print(b)"
   ]
  },
  {
   "cell_type": "code",
   "execution_count": 5,
   "metadata": {},
   "outputs": [
    {
     "name": "stdout",
     "output_type": "stream",
     "text": [
      "20\n",
      "50\n"
     ]
    }
   ],
   "source": [
    "b=50\n",
    "print(a)\n",
    "print(b)"
   ]
  },
  {
   "cell_type": "code",
   "execution_count": 38,
   "metadata": {},
   "outputs": [],
   "source": [
    "import numpy as np"
   ]
  },
  {
   "cell_type": "markdown",
   "metadata": {},
   "source": [
    "# Shallow copy"
   ]
  },
  {
   "cell_type": "raw",
   "metadata": {},
   "source": [
    "Shallow copy concepts works only on SUB ELEMENTS of MUTABLE objects...\n",
    "\n",
    "In the unmutable object like string and tuple, shallow copy will NOT work...\n",
    "\n",
    "And if you try to change whole whole MUTABLE object, then shallow copy concepts will NOT work..."
   ]
  },
  {
   "cell_type": "markdown",
   "metadata": {},
   "source": [
    "Change in SUB ELEMENTS of MUTABLE objects"
   ]
  },
  {
   "cell_type": "code",
   "execution_count": 7,
   "metadata": {},
   "outputs": [
    {
     "name": "stdout",
     "output_type": "stream",
     "text": [
      "[1 2 3 4]\n",
      "[1 2 3 4]\n"
     ]
    }
   ],
   "source": [
    "a = np.array([1,2,3,4])\n",
    "b = a  #Shallow Copy\n",
    "print(a)\n",
    "print(b)"
   ]
  },
  {
   "cell_type": "code",
   "execution_count": 13,
   "metadata": {},
   "outputs": [
    {
     "name": "stdout",
     "output_type": "stream",
     "text": [
      "[ 1  2 55 75]\n",
      "[ 1  2 55 75]\n"
     ]
    }
   ],
   "source": [
    "a[2] = 55\n",
    "print(a)\n",
    "print(b)"
   ]
  },
  {
   "cell_type": "code",
   "execution_count": 10,
   "metadata": {},
   "outputs": [
    {
     "name": "stdout",
     "output_type": "stream",
     "text": [
      "[ 1  2 55 75]\n",
      "[ 1  2 55 75]\n"
     ]
    }
   ],
   "source": [
    "b[3] = 75\n",
    "print(a)\n",
    "print(b)"
   ]
  },
  {
   "cell_type": "markdown",
   "metadata": {},
   "source": [
    "Change in whole mutable objects  "
   ]
  },
  {
   "cell_type": "code",
   "execution_count": 44,
   "metadata": {},
   "outputs": [
    {
     "name": "stdout",
     "output_type": "stream",
     "text": [
      "[1 2 3 4]\n",
      "[1 2 3 4]\n"
     ]
    }
   ],
   "source": [
    "c = np.array([1,2,3,4])\n",
    "d = c  #Shallow Copy\n",
    "print(c)\n",
    "print(d)"
   ]
  },
  {
   "cell_type": "code",
   "execution_count": 45,
   "metadata": {},
   "outputs": [
    {
     "name": "stdout",
     "output_type": "stream",
     "text": [
      "[11, 22, 33, 44, 55]\n",
      "[1 2 3 4]\n"
     ]
    }
   ],
   "source": [
    "c = [11, 22, 33, 44, 55]\n",
    "print(c)\n",
    "print(d)"
   ]
  },
  {
   "cell_type": "code",
   "execution_count": 46,
   "metadata": {},
   "outputs": [
    {
     "name": "stdout",
     "output_type": "stream",
     "text": [
      "[11, 22, 33, 44, 55]\n",
      "[100, 200, 300, 400]\n"
     ]
    }
   ],
   "source": [
    "d = [100, 200, 300, 400]\n",
    "print(c)\n",
    "print(d)"
   ]
  },
  {
   "cell_type": "code",
   "execution_count": null,
   "metadata": {},
   "outputs": [],
   "source": []
  },
  {
   "cell_type": "markdown",
   "metadata": {},
   "source": [
    "# Deep copy"
   ]
  },
  {
   "cell_type": "code",
   "execution_count": 14,
   "metadata": {},
   "outputs": [
    {
     "name": "stdout",
     "output_type": "stream",
     "text": [
      "[1 2 3 4]\n",
      "[1 2 3 4]\n"
     ]
    }
   ],
   "source": [
    "a = np.array([1,2,3,4])\n",
    "b = a.copy() #Deep Copy\n",
    "print(a)\n",
    "print(b)"
   ]
  },
  {
   "cell_type": "code",
   "execution_count": 15,
   "metadata": {},
   "outputs": [
    {
     "name": "stdout",
     "output_type": "stream",
     "text": [
      "[ 1  2 55  4]\n",
      "[1 2 3 4]\n"
     ]
    }
   ],
   "source": [
    "a[2] = 55\n",
    "print(a)\n",
    "print(b)"
   ]
  },
  {
   "cell_type": "code",
   "execution_count": 16,
   "metadata": {},
   "outputs": [
    {
     "name": "stdout",
     "output_type": "stream",
     "text": [
      "[ 1  2 55  4]\n",
      "[ 1  2  3 75]\n"
     ]
    }
   ],
   "source": [
    "b[3] = 75\n",
    "print(a)\n",
    "print(b)"
   ]
  },
  {
   "cell_type": "markdown",
   "metadata": {},
   "source": [
    "# == Versus is"
   ]
  },
  {
   "cell_type": "raw",
   "metadata": {},
   "source": [
    "(==) is used for comparing VALUES of two different objects.\n",
    "(is) is used for comparing MEMORY LOCATION of two differernt objects."
   ]
  },
  {
   "cell_type": "code",
   "execution_count": 1,
   "metadata": {},
   "outputs": [
    {
     "name": "stdout",
     "output_type": "stream",
     "text": [
      "True\n",
      "False\n"
     ]
    }
   ],
   "source": [
    "lst1 = ['CT1', 'CT2', 'CT3', 'CT4']\n",
    "lst2 = ['CT1', 'CT2', 'CT3', 'CT4']\n",
    "\n",
    "print(lst1 == lst2) #check values\n",
    "print(lst1 is lst2) #check memory location"
   ]
  },
  {
   "cell_type": "code",
   "execution_count": 3,
   "metadata": {},
   "outputs": [
    {
     "name": "stdout",
     "output_type": "stream",
     "text": [
      "['KKK', 'CT2', 'CT3', 'CT4']\n",
      "['CT1', 'CT2', 'CT3', 'ZZZ']\n",
      "False\n",
      "False\n"
     ]
    }
   ],
   "source": [
    "lst1[0] = 'KKK'\n",
    "lst2[3] = 'ZZZ'\n",
    "\n",
    "print(lst1)\n",
    "print(lst2)\n",
    "\n",
    "print(lst1 == lst2)\n",
    "print(lst1 is lst2)"
   ]
  },
  {
   "cell_type": "markdown",
   "metadata": {},
   "source": [
    "# ---------------------------------------"
   ]
  },
  {
   "cell_type": "code",
   "execution_count": 5,
   "metadata": {},
   "outputs": [
    {
     "name": "stdout",
     "output_type": "stream",
     "text": [
      "['CT1', 'CT2', 'CT3', 'CT4']\n",
      "['CT1', 'CT2', 'CT3', 'CT4']\n",
      "True\n",
      "True\n"
     ]
    }
   ],
   "source": [
    "lstA = ['CT1', 'CT2', 'CT3', 'CT4']\n",
    "lstB = lstA\n",
    "\n",
    "print(lstA)\n",
    "print(lstB)\n",
    "\n",
    "print(lstA == lstB)\n",
    "print(lstA is lstB)"
   ]
  },
  {
   "cell_type": "code",
   "execution_count": 7,
   "metadata": {},
   "outputs": [
    {
     "name": "stdout",
     "output_type": "stream",
     "text": [
      "['AAA', 'CT2', 'CT3', 'BBB']\n",
      "['AAA', 'CT2', 'CT3', 'BBB']\n",
      "True\n",
      "True\n"
     ]
    }
   ],
   "source": [
    "lstA[0] = 'AAA'\n",
    "lstB[3] = 'BBB'\n",
    "\n",
    "print(lstA)\n",
    "print(lstB)\n",
    "\n",
    "print(lstA == lstB)\n",
    "print(lstA is lstB)"
   ]
  },
  {
   "cell_type": "markdown",
   "metadata": {},
   "source": [
    "# -------------------------------"
   ]
  },
  {
   "cell_type": "code",
   "execution_count": 8,
   "metadata": {},
   "outputs": [
    {
     "name": "stdout",
     "output_type": "stream",
     "text": [
      "True\n",
      "True\n"
     ]
    }
   ],
   "source": [
    "a = 10\n",
    "b = 10\n",
    "\n",
    "print(a == b)\n",
    "print(a is b)"
   ]
  },
  {
   "cell_type": "code",
   "execution_count": 14,
   "metadata": {},
   "outputs": [
    {
     "name": "stdout",
     "output_type": "stream",
     "text": [
      "80\n",
      "40\n",
      "False\n",
      "False\n"
     ]
    }
   ],
   "source": [
    "b = 40\n",
    "\n",
    "print(a)\n",
    "print(b)\n",
    "\n",
    "print(a == b)\n",
    "print(a is b)"
   ]
  },
  {
   "cell_type": "code",
   "execution_count": 15,
   "metadata": {},
   "outputs": [
    {
     "name": "stdout",
     "output_type": "stream",
     "text": [
      "80\n",
      "40\n",
      "False\n",
      "False\n"
     ]
    }
   ],
   "source": [
    "a = 80\n",
    "\n",
    "print(a)\n",
    "print(b)\n",
    "        \n",
    "print(a == b)\n",
    "print(a is b)"
   ]
  },
  {
   "cell_type": "code",
   "execution_count": null,
   "metadata": {},
   "outputs": [],
   "source": [
    "# ---------------------------------------"
   ]
  },
  {
   "cell_type": "code",
   "execution_count": 11,
   "metadata": {},
   "outputs": [
    {
     "name": "stdout",
     "output_type": "stream",
     "text": [
      "True\n",
      "True\n"
     ]
    }
   ],
   "source": [
    "c = 10\n",
    "d = c\n",
    "\n",
    "print(c == d)\n",
    "print(c is d)"
   ]
  },
  {
   "cell_type": "code",
   "execution_count": 16,
   "metadata": {},
   "outputs": [
    {
     "name": "stdout",
     "output_type": "stream",
     "text": [
      "80\n",
      "40\n",
      "False\n",
      "False\n"
     ]
    }
   ],
   "source": [
    "d = 40\n",
    "\n",
    "print(c)\n",
    "print(d)\n",
    "\n",
    "print(c == d)\n",
    "print(c is d)"
   ]
  },
  {
   "cell_type": "code",
   "execution_count": 17,
   "metadata": {},
   "outputs": [
    {
     "name": "stdout",
     "output_type": "stream",
     "text": [
      "80\n",
      "40\n",
      "False\n",
      "False\n"
     ]
    }
   ],
   "source": [
    "c = 80\n",
    "\n",
    "print(c)\n",
    "print(d)\n",
    "\n",
    "print(c == d)\n",
    "print(c is d)"
   ]
  },
  {
   "cell_type": "markdown",
   "metadata": {},
   "source": [
    "# ----------------------------------------"
   ]
  },
  {
   "cell_type": "code",
   "execution_count": 21,
   "metadata": {},
   "outputs": [
    {
     "name": "stdout",
     "output_type": "stream",
     "text": [
      "True\n",
      "True\n"
     ]
    }
   ],
   "source": [
    "str1 = 'chetan'\n",
    "str2 = 'chetan'\n",
    "\n",
    "print(str1 == str2)\n",
    "print(str1 is str2)"
   ]
  },
  {
   "cell_type": "code",
   "execution_count": 22,
   "metadata": {},
   "outputs": [
    {
     "name": "stdout",
     "output_type": "stream",
     "text": [
      "kishan\n",
      "chetan\n",
      "False\n",
      "False\n"
     ]
    }
   ],
   "source": [
    "str1 = 'kishan'\n",
    "\n",
    "print(str1)\n",
    "print(str2)\n",
    "\n",
    "print(str1 == str2)\n",
    "print(str1 is str2)"
   ]
  },
  {
   "cell_type": "code",
   "execution_count": null,
   "metadata": {},
   "outputs": [],
   "source": []
  },
  {
   "cell_type": "code",
   "execution_count": 23,
   "metadata": {},
   "outputs": [
    {
     "name": "stdout",
     "output_type": "stream",
     "text": [
      "True\n",
      "True\n"
     ]
    }
   ],
   "source": [
    "str3 = 'chetan'\n",
    "str4 = str3\n",
    "\n",
    "print(str3 == str4)\n",
    "print(str3 is str4)"
   ]
  },
  {
   "cell_type": "code",
   "execution_count": 24,
   "metadata": {},
   "outputs": [
    {
     "name": "stdout",
     "output_type": "stream",
     "text": [
      "chetan\n",
      "kishan\n",
      "False\n",
      "False\n"
     ]
    }
   ],
   "source": [
    "str4 = 'kishan'\n",
    "\n",
    "print(str3)\n",
    "print(str4)\n",
    "\n",
    "print(str3 == str4)\n",
    "print(str3 is str4)"
   ]
  },
  {
   "cell_type": "markdown",
   "metadata": {},
   "source": [
    "# -----------------------------------------------"
   ]
  },
  {
   "cell_type": "code",
   "execution_count": 36,
   "metadata": {},
   "outputs": [
    {
     "name": "stdout",
     "output_type": "stream",
     "text": [
      "['a', 'b', 'c', 'd']\n",
      "------------------\n",
      "['a', 'b', ['x', 'y', 'z'], 'd']\n",
      "['a', 'b', ['x', 'y', 'z'], 'd']\n"
     ]
    }
   ],
   "source": [
    "a = ['a', 'b', 'c', 'd']\n",
    "b = a\n",
    "\n",
    "print(a)\n",
    "a[2] = ['x', 'y', 'z']\n",
    "print('------------------')\n",
    "print(a)\n",
    "print(b)"
   ]
  },
  {
   "cell_type": "code",
   "execution_count": null,
   "metadata": {},
   "outputs": [],
   "source": []
  }
 ],
 "metadata": {
  "kernelspec": {
   "display_name": "Python 2",
   "language": "python",
   "name": "python2"
  },
  "language_info": {
   "codemirror_mode": {
    "name": "ipython",
    "version": 2
   },
   "file_extension": ".py",
   "mimetype": "text/x-python",
   "name": "python",
   "nbconvert_exporter": "python",
   "pygments_lexer": "ipython2",
   "version": "2.7.16"
  }
 },
 "nbformat": 4,
 "nbformat_minor": 2
}
