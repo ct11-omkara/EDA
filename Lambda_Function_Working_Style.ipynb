{
 "cells": [
  {
   "cell_type": "code",
   "execution_count": 1,
   "metadata": {},
   "outputs": [],
   "source": [
    "y = 9\n",
    "a = lambda x,y:x==y\n",
    "b = lambda x,y:x**y\n",
    "c = lambda x:x*y\n",
    "d = lambda x,y:x+1 if y==1 else x+2\n",
    "e = lambda x,y:x+1 if y==1 else (x+2 if y==2 else x+3)\n",
    "f = lambda x,y:x+1 if y==1 else (x+2 if y==2 else (x+3 if y==3 else x+5))\n",
    "g = lambda x:x if x==1 else x+2\n",
    "h = lambda x:[x+i for i in range(x)]\n",
    "i = lambda x : x > 10 and x < 20"
   ]
  },
  {
   "cell_type": "code",
   "execution_count": 8,
   "metadata": {},
   "outputs": [
    {
     "name": "stdout",
     "output_type": "stream",
     "text": [
      "True\n",
      "16\n",
      "27\n",
      "4\n",
      "8\n",
      "9\n",
      "10\n",
      "10\n",
      "8\n",
      "9\n",
      "10\n",
      "12\n",
      "12\n",
      "1\n",
      "4\n",
      "5\n",
      "[4, 5, 6, 7]\n",
      "True\n",
      "False\n",
      "False\n"
     ]
    }
   ],
   "source": [
    "print(a(6,6))\n",
    "print(b(4,2))\n",
    "print(c(3))\n",
    "print(d(2,3))\n",
    "print(e(7,1))\n",
    "print(e(7,2))\n",
    "print(e(7,3))\n",
    "print(e(7,9))\n",
    "print(f(7,1))\n",
    "print(f(7,2))\n",
    "print(f(7,3))\n",
    "print(f(7,4))\n",
    "print(f(7,9))\n",
    "print(g(1))\n",
    "print(g(2))\n",
    "print(g(3))\n",
    "print(h(4))\n",
    "print(i(12))\n",
    "print(i(3))\n",
    "print(i(24))"
   ]
  },
  {
   "cell_type": "code",
   "execution_count": null,
   "metadata": {},
   "outputs": [],
   "source": []
  },
  {
   "cell_type": "code",
   "execution_count": null,
   "metadata": {},
   "outputs": [],
   "source": []
  },
  {
   "cell_type": "code",
   "execution_count": null,
   "metadata": {},
   "outputs": [],
   "source": []
  },
  {
   "cell_type": "code",
   "execution_count": null,
   "metadata": {},
   "outputs": [],
   "source": []
  },
  {
   "cell_type": "code",
   "execution_count": null,
   "metadata": {},
   "outputs": [],
   "source": []
  },
  {
   "cell_type": "code",
   "execution_count": null,
   "metadata": {},
   "outputs": [],
   "source": []
  },
  {
   "cell_type": "code",
   "execution_count": null,
   "metadata": {},
   "outputs": [],
   "source": []
  }
 ],
 "metadata": {
  "kernelspec": {
   "display_name": "Python 2",
   "language": "python",
   "name": "python2"
  },
  "language_info": {
   "codemirror_mode": {
    "name": "ipython",
    "version": 2
   },
   "file_extension": ".py",
   "mimetype": "text/x-python",
   "name": "python",
   "nbconvert_exporter": "python",
   "pygments_lexer": "ipython2",
   "version": "2.7.16"
  }
 },
 "nbformat": 4,
 "nbformat_minor": 2
}
